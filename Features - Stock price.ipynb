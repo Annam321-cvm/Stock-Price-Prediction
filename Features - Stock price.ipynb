{
 "cells": [
  {
   "cell_type": "code",
   "execution_count": 3,
   "id": "18ea2b13",
   "metadata": {},
   "outputs": [],
   "source": [
    "import pandas as pd"
   ]
  },
  {
   "cell_type": "code",
   "execution_count": 4,
   "id": "6de32d01",
   "metadata": {},
   "outputs": [],
   "source": [
    "_data_ = pd.read_csv(r\"C:\\Users\\Annapoorani\\Downloads\\IDFC.csv\")"
   ]
  },
  {
   "cell_type": "code",
   "execution_count": 7,
   "id": "9d384c3e",
   "metadata": {},
   "outputs": [
    {
     "data": {
      "text/html": [
       "<div>\n",
       "<style scoped>\n",
       "    .dataframe tbody tr th:only-of-type {\n",
       "        vertical-align: middle;\n",
       "    }\n",
       "\n",
       "    .dataframe tbody tr th {\n",
       "        vertical-align: top;\n",
       "    }\n",
       "\n",
       "    .dataframe thead th {\n",
       "        text-align: right;\n",
       "    }\n",
       "</style>\n",
       "<table border=\"1\" class=\"dataframe\">\n",
       "  <thead>\n",
       "    <tr style=\"text-align: right;\">\n",
       "      <th></th>\n",
       "      <th>SYMBOL</th>\n",
       "      <th>PREV CLOSE</th>\n",
       "      <th>OPEN</th>\n",
       "      <th>HIGH</th>\n",
       "      <th>LOW</th>\n",
       "      <th>LAST</th>\n",
       "      <th>CLOSE</th>\n",
       "      <th>VWAP</th>\n",
       "      <th>VOLUME</th>\n",
       "      <th>TURNOVER</th>\n",
       "      <th>TRADES</th>\n",
       "      <th>DELIVERABLE VOLUME</th>\n",
       "      <th>%DELIVERBLE</th>\n",
       "      <th>Unnamed: 13</th>\n",
       "      <th>Unnamed: 14</th>\n",
       "      <th>Unnamed: 15</th>\n",
       "      <th>Unnamed: 16</th>\n",
       "      <th>Unnamed: 17</th>\n",
       "    </tr>\n",
       "  </thead>\n",
       "  <tbody>\n",
       "    <tr>\n",
       "      <th>0</th>\n",
       "      <td>NaN</td>\n",
       "      <td>NaN</td>\n",
       "      <td>NaN</td>\n",
       "      <td>NaN</td>\n",
       "      <td>NaN</td>\n",
       "      <td>NaN</td>\n",
       "      <td>NaN</td>\n",
       "      <td>NaN</td>\n",
       "      <td>NaN</td>\n",
       "      <td>NaN</td>\n",
       "      <td>NaN</td>\n",
       "      <td>NaN</td>\n",
       "      <td>NaN</td>\n",
       "      <td>NaN</td>\n",
       "      <td>Regression Coefficients:</td>\n",
       "      <td>NaN</td>\n",
       "      <td>NaN</td>\n",
       "      <td>NaN</td>\n",
       "    </tr>\n",
       "    <tr>\n",
       "      <th>1</th>\n",
       "      <td>IDFCFIRSTB</td>\n",
       "      <td>47.050000</td>\n",
       "      <td>47.250000</td>\n",
       "      <td>49.500000</td>\n",
       "      <td>46.550000</td>\n",
       "      <td>48.350000</td>\n",
       "      <td>48.350000</td>\n",
       "      <td>48.260000</td>\n",
       "      <td>3.136047e+07</td>\n",
       "      <td>1.513590e+14</td>\n",
       "      <td>5.238100e+04</td>\n",
       "      <td>1.196151e+07</td>\n",
       "      <td>0.381400</td>\n",
       "      <td>NaN</td>\n",
       "      <td>NaN</td>\n",
       "      <td>NaN</td>\n",
       "      <td>NaN</td>\n",
       "      <td>FORMULA</td>\n",
       "    </tr>\n",
       "    <tr>\n",
       "      <th>2</th>\n",
       "      <td>IDFCFIRSTB</td>\n",
       "      <td>48.350000</td>\n",
       "      <td>48.750000</td>\n",
       "      <td>49.000000</td>\n",
       "      <td>47.050000</td>\n",
       "      <td>47.250000</td>\n",
       "      <td>47.250000</td>\n",
       "      <td>47.900000</td>\n",
       "      <td>2.020286e+07</td>\n",
       "      <td>9.677360e+13</td>\n",
       "      <td>3.316700e+04</td>\n",
       "      <td>9.737067e+06</td>\n",
       "      <td>0.482000</td>\n",
       "      <td>NaN</td>\n",
       "      <td>NaN</td>\n",
       "      <td>BETA 1 :</td>\n",
       "      <td>NaN</td>\n",
       "      <td>NaN</td>\n",
       "    </tr>\n",
       "    <tr>\n",
       "      <th>3</th>\n",
       "      <td>IDFCFIRSTB</td>\n",
       "      <td>47.250000</td>\n",
       "      <td>47.500000</td>\n",
       "      <td>47.800000</td>\n",
       "      <td>46.750000</td>\n",
       "      <td>47.100000</td>\n",
       "      <td>47.100000</td>\n",
       "      <td>47.200000</td>\n",
       "      <td>1.043018e+07</td>\n",
       "      <td>4.922590e+13</td>\n",
       "      <td>2.337400e+04</td>\n",
       "      <td>4.077721e+06</td>\n",
       "      <td>0.391000</td>\n",
       "      <td>NaN</td>\n",
       "      <td>NaN</td>\n",
       "      <td>NaN</td>\n",
       "      <td>NaN</td>\n",
       "      <td>( Sxy / Sxx )</td>\n",
       "    </tr>\n",
       "    <tr>\n",
       "      <th>4</th>\n",
       "      <td>IDFCFIRSTB</td>\n",
       "      <td>47.100000</td>\n",
       "      <td>47.550000</td>\n",
       "      <td>47.550000</td>\n",
       "      <td>46.100000</td>\n",
       "      <td>46.350000</td>\n",
       "      <td>46.400000</td>\n",
       "      <td>46.860000</td>\n",
       "      <td>1.275628e+07</td>\n",
       "      <td>5.977900e+13</td>\n",
       "      <td>1.943700e+04</td>\n",
       "      <td>5.613924e+06</td>\n",
       "      <td>0.440100</td>\n",
       "      <td>NaN</td>\n",
       "      <td>NaN</td>\n",
       "      <td>SST:</td>\n",
       "      <td>NaN</td>\n",
       "      <td>NaN</td>\n",
       "    </tr>\n",
       "    <tr>\n",
       "      <th>...</th>\n",
       "      <td>...</td>\n",
       "      <td>...</td>\n",
       "      <td>...</td>\n",
       "      <td>...</td>\n",
       "      <td>...</td>\n",
       "      <td>...</td>\n",
       "      <td>...</td>\n",
       "      <td>...</td>\n",
       "      <td>...</td>\n",
       "      <td>...</td>\n",
       "      <td>...</td>\n",
       "      <td>...</td>\n",
       "      <td>...</td>\n",
       "      <td>...</td>\n",
       "      <td>...</td>\n",
       "      <td>...</td>\n",
       "      <td>...</td>\n",
       "      <td>...</td>\n",
       "    </tr>\n",
       "    <tr>\n",
       "      <th>585</th>\n",
       "      <td>IDFCFIRSTB</td>\n",
       "      <td>57.900000</td>\n",
       "      <td>58.400000</td>\n",
       "      <td>59.500000</td>\n",
       "      <td>57.950000</td>\n",
       "      <td>59.200000</td>\n",
       "      <td>59.150000</td>\n",
       "      <td>59.010000</td>\n",
       "      <td>5.274666e+07</td>\n",
       "      <td>3.112450e+14</td>\n",
       "      <td>8.842800e+04</td>\n",
       "      <td>1.809299e+07</td>\n",
       "      <td>0.343000</td>\n",
       "      <td>NaN</td>\n",
       "      <td>NaN</td>\n",
       "      <td>NaN</td>\n",
       "      <td>NaN</td>\n",
       "      <td>NaN</td>\n",
       "    </tr>\n",
       "    <tr>\n",
       "      <th>586</th>\n",
       "      <td>NaN</td>\n",
       "      <td>NaN</td>\n",
       "      <td>NaN</td>\n",
       "      <td>NaN</td>\n",
       "      <td>NaN</td>\n",
       "      <td>NaN</td>\n",
       "      <td>NaN</td>\n",
       "      <td>NaN</td>\n",
       "      <td>NaN</td>\n",
       "      <td>NaN</td>\n",
       "      <td>NaN</td>\n",
       "      <td>NaN</td>\n",
       "      <td>NaN</td>\n",
       "      <td>NaN</td>\n",
       "      <td>NaN</td>\n",
       "      <td>NaN</td>\n",
       "      <td>NaN</td>\n",
       "      <td>NaN</td>\n",
       "    </tr>\n",
       "    <tr>\n",
       "      <th>587</th>\n",
       "      <td>Average:</td>\n",
       "      <td>40.454103</td>\n",
       "      <td>40.526581</td>\n",
       "      <td>41.291624</td>\n",
       "      <td>39.670513</td>\n",
       "      <td>40.496923</td>\n",
       "      <td>40.474786</td>\n",
       "      <td>40.489248</td>\n",
       "      <td>3.043280e+07</td>\n",
       "      <td>1.214820e+14</td>\n",
       "      <td>5.251611e+04</td>\n",
       "      <td>8.259025e+06</td>\n",
       "      <td>0.302189</td>\n",
       "      <td>NaN</td>\n",
       "      <td>NaN</td>\n",
       "      <td>NaN</td>\n",
       "      <td>NaN</td>\n",
       "      <td>NaN</td>\n",
       "    </tr>\n",
       "    <tr>\n",
       "      <th>588</th>\n",
       "      <td>NaN</td>\n",
       "      <td>NaN</td>\n",
       "      <td>NaN</td>\n",
       "      <td>NaN</td>\n",
       "      <td>NaN</td>\n",
       "      <td>NaN</td>\n",
       "      <td>NaN</td>\n",
       "      <td>NaN</td>\n",
       "      <td>NaN</td>\n",
       "      <td>NaN</td>\n",
       "      <td>NaN</td>\n",
       "      <td>NaN</td>\n",
       "      <td>NaN</td>\n",
       "      <td>NaN</td>\n",
       "      <td>NaN</td>\n",
       "      <td>NaN</td>\n",
       "      <td>NaN</td>\n",
       "      <td>NaN</td>\n",
       "    </tr>\n",
       "    <tr>\n",
       "      <th>589</th>\n",
       "      <td>Sum:</td>\n",
       "      <td>23665.650000</td>\n",
       "      <td>23708.050000</td>\n",
       "      <td>24155.600000</td>\n",
       "      <td>23207.250000</td>\n",
       "      <td>23690.700000</td>\n",
       "      <td>23677.750000</td>\n",
       "      <td>23686.210000</td>\n",
       "      <td>1.780319e+10</td>\n",
       "      <td>7.106670e+16</td>\n",
       "      <td>3.072192e+07</td>\n",
       "      <td>4.831529e+09</td>\n",
       "      <td>176.780300</td>\n",
       "      <td>NaN</td>\n",
       "      <td>NaN</td>\n",
       "      <td>NaN</td>\n",
       "      <td>NaN</td>\n",
       "      <td>NaN</td>\n",
       "    </tr>\n",
       "  </tbody>\n",
       "</table>\n",
       "<p>590 rows × 18 columns</p>\n",
       "</div>"
      ],
      "text/plain": [
       "         SYMBOL    PREV CLOSE          OPEN          HIGH           LOW  \\\n",
       "0           NaN           NaN           NaN           NaN           NaN   \n",
       "1    IDFCFIRSTB     47.050000     47.250000     49.500000     46.550000   \n",
       "2    IDFCFIRSTB     48.350000     48.750000     49.000000     47.050000   \n",
       "3    IDFCFIRSTB     47.250000     47.500000     47.800000     46.750000   \n",
       "4    IDFCFIRSTB     47.100000     47.550000     47.550000     46.100000   \n",
       "..          ...           ...           ...           ...           ...   \n",
       "585  IDFCFIRSTB     57.900000     58.400000     59.500000     57.950000   \n",
       "586         NaN           NaN           NaN           NaN           NaN   \n",
       "587    Average:     40.454103     40.526581     41.291624     39.670513   \n",
       "588         NaN           NaN           NaN           NaN           NaN   \n",
       "589        Sum:  23665.650000  23708.050000  24155.600000  23207.250000   \n",
       "\n",
       "             LAST         CLOSE          VWAP        VOLUME      TURNOVER  \\\n",
       "0             NaN           NaN           NaN           NaN           NaN   \n",
       "1       48.350000     48.350000     48.260000  3.136047e+07  1.513590e+14   \n",
       "2       47.250000     47.250000     47.900000  2.020286e+07  9.677360e+13   \n",
       "3       47.100000     47.100000     47.200000  1.043018e+07  4.922590e+13   \n",
       "4       46.350000     46.400000     46.860000  1.275628e+07  5.977900e+13   \n",
       "..            ...           ...           ...           ...           ...   \n",
       "585     59.200000     59.150000     59.010000  5.274666e+07  3.112450e+14   \n",
       "586           NaN           NaN           NaN           NaN           NaN   \n",
       "587     40.496923     40.474786     40.489248  3.043280e+07  1.214820e+14   \n",
       "588           NaN           NaN           NaN           NaN           NaN   \n",
       "589  23690.700000  23677.750000  23686.210000  1.780319e+10  7.106670e+16   \n",
       "\n",
       "           TRADES  DELIVERABLE VOLUME  %DELIVERBLE  Unnamed: 13  \\\n",
       "0             NaN                 NaN          NaN          NaN   \n",
       "1    5.238100e+04        1.196151e+07     0.381400          NaN   \n",
       "2    3.316700e+04        9.737067e+06     0.482000          NaN   \n",
       "3    2.337400e+04        4.077721e+06     0.391000          NaN   \n",
       "4    1.943700e+04        5.613924e+06     0.440100          NaN   \n",
       "..            ...                 ...          ...          ...   \n",
       "585  8.842800e+04        1.809299e+07     0.343000          NaN   \n",
       "586           NaN                 NaN          NaN          NaN   \n",
       "587  5.251611e+04        8.259025e+06     0.302189          NaN   \n",
       "588           NaN                 NaN          NaN          NaN   \n",
       "589  3.072192e+07        4.831529e+09   176.780300          NaN   \n",
       "\n",
       "                  Unnamed: 14 Unnamed: 15  Unnamed: 16    Unnamed: 17  \n",
       "0    Regression Coefficients:         NaN          NaN            NaN  \n",
       "1                         NaN         NaN          NaN        FORMULA  \n",
       "2                         NaN    BETA 1 :          NaN            NaN  \n",
       "3                         NaN         NaN          NaN  ( Sxy / Sxx )  \n",
       "4                         NaN        SST:          NaN            NaN  \n",
       "..                        ...         ...          ...            ...  \n",
       "585                       NaN         NaN          NaN            NaN  \n",
       "586                       NaN         NaN          NaN            NaN  \n",
       "587                       NaN         NaN          NaN            NaN  \n",
       "588                       NaN         NaN          NaN            NaN  \n",
       "589                       NaN         NaN          NaN            NaN  \n",
       "\n",
       "[590 rows x 18 columns]"
      ]
     },
     "execution_count": 7,
     "metadata": {},
     "output_type": "execute_result"
    }
   ],
   "source": [
    "_data_"
   ]
  },
  {
   "cell_type": "code",
   "execution_count": 6,
   "id": "d637d47d",
   "metadata": {},
   "outputs": [],
   "source": [
    "import numpy as np\n",
    "import pandas as pd\n",
    "from sklearn.model_selection import train_test_split\n",
    "from sklearn.metrics import mean_squared_error"
   ]
  },
  {
   "cell_type": "markdown",
   "id": "58a671f1",
   "metadata": {},
   "source": [
    "    # MLR Format"
   ]
  },
  {
   "cell_type": "code",
   "execution_count": 6,
   "id": "0707224e",
   "metadata": {},
   "outputs": [],
   "source": [
    "X=_data_[['PREV CLOSE','OPEN','HIGH', 'CLOSE','VOLUME','TURNOVER']]\n",
    "y=_data_['%DELIVERBLE']"
   ]
  },
  {
   "cell_type": "code",
   "execution_count": 7,
   "id": "f5447b58",
   "metadata": {},
   "outputs": [],
   "source": [
    "X_train, X_test, y_train, y_test = train_test_split(X, y, test_size=0.2, random_state=20)"
   ]
  },
  {
   "cell_type": "code",
   "execution_count": 2,
   "id": "99fe6a14",
   "metadata": {},
   "outputs": [
    {
     "ename": "NameError",
     "evalue": "name 'LinearRegression' is not defined",
     "output_type": "error",
     "traceback": [
      "\u001b[1;31m---------------------------------------------------------------------------\u001b[0m",
      "\u001b[1;31mNameError\u001b[0m                                 Traceback (most recent call last)",
      "\u001b[1;32mC:\\Users\\ANNAPO~1\\AppData\\Local\\Temp/ipykernel_14340/1905445833.py\u001b[0m in \u001b[0;36m<module>\u001b[1;34m\u001b[0m\n\u001b[1;32m----> 1\u001b[1;33m \u001b[0mmodel\u001b[0m \u001b[1;33m=\u001b[0m \u001b[0mLinearRegression\u001b[0m\u001b[1;33m(\u001b[0m\u001b[1;33m)\u001b[0m\u001b[1;33m\u001b[0m\u001b[1;33m\u001b[0m\u001b[0m\n\u001b[0m\u001b[0;32m      2\u001b[0m \u001b[0mmodel\u001b[0m\u001b[1;33m.\u001b[0m\u001b[0mfit\u001b[0m\u001b[1;33m(\u001b[0m\u001b[0mX_train\u001b[0m\u001b[1;33m,\u001b[0m \u001b[0my_train\u001b[0m\u001b[1;33m)\u001b[0m\u001b[1;33m\u001b[0m\u001b[1;33m\u001b[0m\u001b[0m\n",
      "\u001b[1;31mNameError\u001b[0m: name 'LinearRegression' is not defined"
     ]
    }
   ],
   "source": [
    "model = LinearRegression()\n",
    "model.fit(X_train, y_train)"
   ]
  },
  {
   "cell_type": "code",
   "execution_count": 1,
   "id": "3abaa3d2",
   "metadata": {},
   "outputs": [
    {
     "ename": "NameError",
     "evalue": "name 'model' is not defined",
     "output_type": "error",
     "traceback": [
      "\u001b[1;31m---------------------------------------------------------------------------\u001b[0m",
      "\u001b[1;31mNameError\u001b[0m                                 Traceback (most recent call last)",
      "\u001b[1;32mC:\\Users\\ANNAPO~1\\AppData\\Local\\Temp/ipykernel_14340/2891402613.py\u001b[0m in \u001b[0;36m<module>\u001b[1;34m\u001b[0m\n\u001b[1;32m----> 1\u001b[1;33m \u001b[0my_pred\u001b[0m \u001b[1;33m=\u001b[0m \u001b[0mmodel\u001b[0m\u001b[1;33m.\u001b[0m\u001b[0mpredict\u001b[0m\u001b[1;33m(\u001b[0m\u001b[0mX_test\u001b[0m\u001b[1;33m)\u001b[0m\u001b[1;33m\u001b[0m\u001b[1;33m\u001b[0m\u001b[0m\n\u001b[0m",
      "\u001b[1;31mNameError\u001b[0m: name 'model' is not defined"
     ]
    }
   ],
   "source": [
    "y_pred = model.predict(X_test)"
   ]
  },
  {
   "cell_type": "code",
   "execution_count": 19,
   "id": "ed444bae",
   "metadata": {},
   "outputs": [],
   "source": [
    "from sklearn.metrics import r2_score"
   ]
  },
  {
   "cell_type": "code",
   "execution_count": 20,
   "id": "ce47a6fa",
   "metadata": {},
   "outputs": [],
   "source": [
    "r2 = r2_score(y_test, y_pred)"
   ]
  },
  {
   "cell_type": "code",
   "execution_count": 21,
   "id": "cc96102d",
   "metadata": {},
   "outputs": [
    {
     "name": "stdout",
     "output_type": "stream",
     "text": [
      "R2 Score: 0.239024517404556\n"
     ]
    }
   ],
   "source": [
    "print(\"R2 Score:\", r2)"
   ]
  },
  {
   "cell_type": "code",
   "execution_count": 22,
   "id": "6f42875a",
   "metadata": {},
   "outputs": [],
   "source": [
    "# regression equation can be printed"
   ]
  },
  {
   "cell_type": "code",
   "execution_count": 23,
   "id": "51336025",
   "metadata": {},
   "outputs": [
    {
     "name": "stdout",
     "output_type": "stream",
     "text": [
      "y = ( 0.23096704142788266 ) + ( 0.0011153218405502022 x1 )  +  ( -0.010768345055199812 x2 )  +  ( 0.03366024345358739 x3 )  +  ( -0.021594631486510196 x4 )  +  ( -8.19770511953694e-10 x5 )  +  ( -2.393918396847994e-16 x6 )\n"
     ]
    }
   ],
   "source": [
    "print(\"y =\", \"(\",intercept,\")\",\"+\", \"(\", beta_1,\"x1\" ,\")\", \" + \", \"(\",  beta_2,\"x2\" ,\")\" ,\" + \", \"(\",beta_3,\"x3\" ,\")\", \" + \", \"(\", beta_4,\"x4\" , \")\",\" + \", \"(\", beta_5,\"x5\",\")\", \" + \", \"(\", beta_6,\"x6\",\")\")"
   ]
  },
  {
   "cell_type": "markdown",
   "id": "075025e9",
   "metadata": {},
   "source": [
    "# Comparison with other related features:"
   ]
  },
  {
   "cell_type": "code",
   "execution_count": 24,
   "id": "e2375085",
   "metadata": {},
   "outputs": [],
   "source": [
    "A=_data_[['PREV CLOSE','OPEN','HIGH','LOW','LAST','VOLUME']]\n",
    "B=_data_['CLOSE']       "
   ]
  },
  {
   "cell_type": "code",
   "execution_count": 25,
   "id": "4a462a73",
   "metadata": {},
   "outputs": [],
   "source": [
    "x_train, x_test, Y_train, Y_test = train_test_split(A, B, test_size=0.2, random_state=20)"
   ]
  },
  {
   "cell_type": "code",
   "execution_count": 26,
   "id": "b593940b",
   "metadata": {},
   "outputs": [
    {
     "data": {
      "text/plain": [
       "LinearRegression()"
      ]
     },
     "execution_count": 26,
     "metadata": {},
     "output_type": "execute_result"
    }
   ],
   "source": [
    "model.fit(x_train, Y_train)"
   ]
  },
  {
   "cell_type": "code",
   "execution_count": 27,
   "id": "b5b98d84",
   "metadata": {},
   "outputs": [
    {
     "name": "stdout",
     "output_type": "stream",
     "text": [
      "Regression Coefficients:\n",
      "PREV CLOSE: 0.005769808058446059\n",
      "OPEN: -0.05108848404282736\n",
      "HIGH: 0.07863328739685209\n",
      "LOW: 0.07427723901146777\n",
      "LAST: 0.8925028319150022\n",
      "VOLUME: -6.469724339597249e-10\n"
     ]
    }
   ],
   "source": [
    "coefficients_ = model.coef_\n",
    "print(\"Regression Coefficients:\")\n",
    "for feature, coef in zip(A.columns, coefficients_):\n",
    "    print(f\"{feature}: {coef}\")"
   ]
  },
  {
   "cell_type": "code",
   "execution_count": 28,
   "id": "a335d12d",
   "metadata": {},
   "outputs": [
    {
     "name": "stdout",
     "output_type": "stream",
     "text": [
      "Slope is given by: \n",
      "\n",
      "0.005769808058446059 +\n",
      "-0.05108848404282736 +\n",
      "0.07863328739685209 +\n",
      "0.07427723901146777 +\n",
      "0.8925028319150022 +\n",
      "-6.469724339597249e-10 +\n"
     ]
    }
   ],
   "source": [
    "coefficients_ = model.coef_\n",
    "print(\"Slope is given by: \\n\")\n",
    "for feature, coef in zip(A.columns, coefficients_):\n",
    "    print(f\"{coef}\", \"+\")"
   ]
  },
  {
   "cell_type": "code",
   "execution_count": 29,
   "id": "6e7b62e7",
   "metadata": {},
   "outputs": [],
   "source": [
    "_intercept_ = model.intercept_"
   ]
  },
  {
   "cell_type": "code",
   "execution_count": 30,
   "id": "d9597299",
   "metadata": {},
   "outputs": [
    {
     "name": "stdout",
     "output_type": "stream",
     "text": [
      "Intercept: -0.007005538110668397\n"
     ]
    }
   ],
   "source": [
    "print(\"Intercept:\",_intercept_)"
   ]
  },
  {
   "cell_type": "code",
   "execution_count": 31,
   "id": "17eb13bf",
   "metadata": {},
   "outputs": [
    {
     "name": "stdout",
     "output_type": "stream",
     "text": [
      "y = ( -0.007005538110668397 ) + [ 5.76980806e-03 -5.10884840e-02  7.86332874e-02  7.42772390e-02\n",
      "  8.92502832e-01 -6.46972434e-10]\n"
     ]
    }
   ],
   "source": [
    "print(\"y =\", \"(\",_intercept_,\")\",\"+\", coefficients_)"
   ]
  },
  {
   "cell_type": "code",
   "execution_count": 32,
   "id": "dde58101",
   "metadata": {},
   "outputs": [
    {
     "name": "stdout",
     "output_type": "stream",
     "text": [
      "\n",
      "Mean Squared Error: 0.010353507373037198\n"
     ]
    }
   ],
   "source": [
    "y_pred_ = model.predict(x_test)\n",
    "m_s_e = mean_squared_error(Y_test, y_pred_)\n",
    "print(f\"\\nMean Squared Error: {m_s_e}\")"
   ]
  },
  {
   "cell_type": "code",
   "execution_count": 33,
   "id": "a9a8e6c1",
   "metadata": {},
   "outputs": [],
   "source": [
    "from sklearn.metrics import r2_score"
   ]
  },
  {
   "cell_type": "code",
   "execution_count": 34,
   "id": "b281a5fe",
   "metadata": {},
   "outputs": [],
   "source": [
    "r2_ = r2_score(Y_test,y_pred_)"
   ]
  },
  {
   "cell_type": "code",
   "execution_count": 35,
   "id": "d5c267bd",
   "metadata": {},
   "outputs": [
    {
     "name": "stdout",
     "output_type": "stream",
     "text": [
      "R2 Score: 0.999889185016084\n"
     ]
    }
   ],
   "source": [
    "print(\"R2 Score:\", r2_)        # higher r2_score obtained comparatively.."
   ]
  },
  {
   "cell_type": "code",
   "execution_count": 36,
   "id": "f4e7cc23",
   "metadata": {},
   "outputs": [],
   "source": [
    "# Similar MSE -values obtained : (closely correlated - important features) to be taken into account within the chosen dataset."
   ]
  },
  {
   "cell_type": "markdown",
   "id": "95c98601",
   "metadata": {},
   "source": [
    "INFERENCE:\n",
    "    \n",
    "          From taken Sample of data, both the comparison of different set of features yielded similar values - implies high   correlation among the target variables and predicted variables (dependent & independent variables- x and y data points) respectively."
   ]
  },
  {
   "cell_type": "code",
   "execution_count": 37,
   "id": "bffa7967",
   "metadata": {},
   "outputs": [],
   "source": [
    "import seaborn as sns\n",
    "import matplotlib.pyplot as plt"
   ]
  },
  {
   "cell_type": "code",
   "execution_count": 38,
   "id": "3c76f8f7",
   "metadata": {},
   "outputs": [
    {
     "data": {
      "text/plain": [
       "SYMBOL                0\n",
       "PREV CLOSE            0\n",
       "OPEN                  0\n",
       "HIGH                  0\n",
       "LOW                   0\n",
       "LAST                  0\n",
       "CLOSE                 0\n",
       "VWAP                  0\n",
       "VOLUME                0\n",
       "TURNOVER              0\n",
       "TRADES                0\n",
       "DELIVERABLE VOLUME    0\n",
       "%DELIVERBLE           0\n",
       "dtype: int64"
      ]
     },
     "execution_count": 38,
     "metadata": {},
     "output_type": "execute_result"
    }
   ],
   "source": [
    "_data_.isnull().sum()"
   ]
  },
  {
   "cell_type": "code",
   "execution_count": 39,
   "id": "b7ac822b",
   "metadata": {},
   "outputs": [],
   "source": [
    "correlation_matrix = _data_.corr() "
   ]
  },
  {
   "cell_type": "code",
   "execution_count": 40,
   "id": "4981f714",
   "metadata": {},
   "outputs": [
    {
     "name": "stdout",
     "output_type": "stream",
     "text": [
      "Correlation matrix given by: \n",
      "\n",
      "                    PREV CLOSE      OPEN      HIGH       LOW      LAST  \\\n",
      "PREV CLOSE            1.000000  0.998770  0.996235  0.996000  0.994129   \n",
      "OPEN                  0.998770  1.000000  0.996988  0.997593  0.995027   \n",
      "HIGH                  0.996235  0.996988  1.000000  0.996080  0.998194   \n",
      "LOW                   0.996000  0.997593  0.996080  1.000000  0.997156   \n",
      "LAST                  0.994129  0.995027  0.998194  0.997156  1.000000   \n",
      "CLOSE                 0.994266  0.995173  0.998229  0.997325  0.999921   \n",
      "VWAP                  0.996438  0.997495  0.999072  0.998631  0.999092   \n",
      "VOLUME               -0.086113 -0.084521 -0.039410 -0.098750 -0.060631   \n",
      "TURNOVER              0.304206  0.306012  0.349831  0.294062  0.329505   \n",
      "TRADES               -0.042620 -0.042660 -0.003346 -0.059894 -0.025900   \n",
      "DELIVERABLE VOLUME   -0.007290 -0.009349  0.026532 -0.028877  0.003249   \n",
      "%DELIVERBLE           0.244937  0.242724  0.227237  0.243552  0.227727   \n",
      "\n",
      "                       CLOSE      VWAP    VOLUME  TURNOVER    TRADES  \\\n",
      "PREV CLOSE          0.994266  0.996438 -0.086113  0.304206 -0.042620   \n",
      "OPEN                0.995173  0.997495 -0.084521  0.306012 -0.042660   \n",
      "HIGH                0.998229  0.999072 -0.039410  0.349831 -0.003346   \n",
      "LOW                 0.997325  0.998631 -0.098750  0.294062 -0.059894   \n",
      "LAST                0.999921  0.999092 -0.060631  0.329505 -0.025900   \n",
      "CLOSE               1.000000  0.999200 -0.062177  0.328157 -0.027549   \n",
      "VWAP                0.999200  1.000000 -0.065444  0.325614 -0.029222   \n",
      "VOLUME             -0.062177 -0.065444  1.000000  0.885823  0.936939   \n",
      "TURNOVER            0.328157  0.325614  0.885823  1.000000  0.874827   \n",
      "TRADES             -0.027549 -0.029222  0.936939  0.874827  1.000000   \n",
      "DELIVERABLE VOLUME  0.002263  0.001449  0.840668  0.742251  0.779419   \n",
      "%DELIVERBLE         0.229179  0.233644 -0.394913 -0.288121 -0.428139   \n",
      "\n",
      "                    DELIVERABLE VOLUME  %DELIVERBLE  \n",
      "PREV CLOSE                   -0.007290     0.244937  \n",
      "OPEN                         -0.009349     0.242724  \n",
      "HIGH                          0.026532     0.227237  \n",
      "LOW                          -0.028877     0.243552  \n",
      "LAST                          0.003249     0.227727  \n",
      "CLOSE                         0.002263     0.229179  \n",
      "VWAP                          0.001449     0.233644  \n",
      "VOLUME                        0.840668    -0.394913  \n",
      "TURNOVER                      0.742251    -0.288121  \n",
      "TRADES                        0.779419    -0.428139  \n",
      "DELIVERABLE VOLUME            1.000000     0.017208  \n",
      "%DELIVERBLE                   0.017208     1.000000  \n"
     ]
    }
   ],
   "source": [
    "print(\"Correlation matrix given by: \\n\")\n",
    "print(correlation_matrix)"
   ]
  },
  {
   "cell_type": "code",
   "execution_count": 41,
   "id": "4c0b6e36",
   "metadata": {},
   "outputs": [
    {
     "data": {
      "image/png": "[encoded data removed]",
      "text/plain": [
       "<Figure size 576x432 with 2 Axes>"
      ]
     },
     "metadata": {
      "needs_background": "light"
     },
     "output_type": "display_data"
    }
   ],
   "source": [
    "plt.figure(figsize=(8, 6))\n",
    "sns.heatmap(correlation_matrix, annot=True, cmap='coolwarm')\n",
    "\n",
    "plt.title(\"CORRELATION given by - HEATMAP\")\n",
    "plt.show()"
   ]
  },
  {
   "cell_type": "markdown",
   "id": "a73b34e0",
   "metadata": {},
   "source": [
    "# Inference:"
   ]
  },
  {
   "cell_type": "markdown",
   "id": "fdaa1dcf",
   "metadata": {},
   "source": [
    "          1. with respect to Volume (predicted variable) - Turnover (target variable) \n",
    "       Similarly, w.r.t ---- Volume (predicted variable) - Trades ( target variable)\n",
    "                  w.r.t ---- Trades (predicted variable) - Volume ( target variable) \n",
    "                  w.r.t ---- Deliverable Volume (predicted) - Volume (target variable)\n",
    "       \n",
    "     NOTE : (interpreted completely on the basis of amount of correlation)"
   ]
  },
  {
   "cell_type": "markdown",
   "id": "51fb5c47",
   "metadata": {},
   "source": [
    "Moreover, Volume & Trades - same Correlation coefficients , implies higher dependency among each other.  "
   ]
  },
  {
   "cell_type": "markdown",
   "id": "63eabcce",
   "metadata": {},
   "source": [
    "# Chi-square test"
   ]
  },
  {
   "cell_type": "code",
   "execution_count": 42,
   "id": "cec45c25",
   "metadata": {},
   "outputs": [],
   "source": [
    "from scipy.stats import chi2_contingency"
   ]
  },
  {
   "cell_type": "code",
   "execution_count": 44,
   "id": "3576d5a4",
   "metadata": {},
   "outputs": [],
   "source": [
    "A=_data_[['PREV CLOSE','OPEN','HIGH','LOW','LAST','VOLUME']]\n",
    "B=_data_['CLOSE']       "
   ]
  },
  {
   "cell_type": "code",
   "execution_count": 45,
   "id": "3be8d806",
   "metadata": {},
   "outputs": [],
   "source": [
    "chi2_stat, p_value, dof, expected = chi2_contingency(A,B)"
   ]
  },
  {
   "cell_type": "code",
   "execution_count": 46,
   "id": "b9226c7f",
   "metadata": {},
   "outputs": [
    {
     "name": "stdout",
     "output_type": "stream",
     "text": [
      "Chi-Square Statistic: 90455.19360322696\n",
      "P-Value: 0.0\n",
      "Degrees of Freedom: 2920\n",
      "Expected Frequencies:\n",
      "[[4.16872846e+01 4.17619727e+01 4.25503366e+01 4.08798084e+01\n",
      "  4.17314105e+01 3.13605001e+07]\n",
      " [2.68556531e+01 2.69037684e+01 2.74116457e+01 2.63354632e+01\n",
      "  2.68840797e+01 2.02029640e+07]\n",
      " [1.38649831e+01 1.38898240e+01 1.41520299e+01 1.35964205e+01\n",
      "  1.38796591e+01 1.04303460e+07]\n",
      " ...\n",
      " [5.62350688e+01 5.63358210e+01 5.73993035e+01 5.51458041e+01\n",
      "  5.62945934e+01 4.23045035e+07]\n",
      " [3.78980960e+01 3.79659952e+01 3.86827004e+01 3.71640157e+01\n",
      "  3.79382110e+01 2.85099702e+07]\n",
      " [7.01156691e+01 7.02412902e+01 7.15672740e+01 6.87575394e+01\n",
      "  7.01898863e+01 5.27465981e+07]]\n"
     ]
    }
   ],
   "source": [
    "print(f\"Chi-Square Statistic: {chi2_stat}\")\n",
    "print(f\"P-Value: {p_value}\")\n",
    "print(f\"Degrees of Freedom: {dof}\")\n",
    "print(\"Expected Frequencies:\")\n",
    "print(expected)"
   ]
  },
  {
   "cell_type": "code",
   "execution_count": 48,
   "id": "032c23c1",
   "metadata": {},
   "outputs": [
    {
     "data": {
      "image/png": "[encoded data removed]",
      "text/plain": [
       "<Figure size 432x288 with 1 Axes>"
      ]
     },
     "metadata": {
      "needs_background": "light"
     },
     "output_type": "display_data"
    }
   ],
   "source": [
    "plt.hist(expected, bins=30, edgecolor='black')\n",
    "plt.xlabel('p - value')\n",
    "plt.ylabel('Frequency')\n",
    "plt.title('Histogram')\n",
    "plt.show()"
   ]
  },
  {
   "cell_type": "markdown",
   "id": "8cf76d97",
   "metadata": {},
   "source": [
    "Note:\n",
    "\n",
    "  lower p-values (less than the chosen significance level) indicate stronger evidence against the null hypothesis, while higher p-values suggest weaker evidence and a failure to reject the null hypothesis."
   ]
  },
  {
   "cell_type": "code",
   "execution_count": 51,
   "id": "c5523134",
   "metadata": {},
   "outputs": [
    {
     "name": "stdout",
     "output_type": "stream",
     "text": [
      "Reject the null hypothesis\n",
      "Alternative hypothesis is favourable\n"
     ]
    }
   ],
   "source": [
    "alpha = 0.05\n",
    "\n",
    "# Compare p-value with alpha\n",
    "if p_value <= alpha:\n",
    "    print(\"Reject the null hypothesis\")\n",
    "    print(\"Alternative hypothesis is favourable\")\n",
    "else:\n",
    "    print(\"Fail to reject the null hypothesis\")"
   ]
  },
  {
   "cell_type": "code",
   "execution_count": 50,
   "id": "02d170b8",
   "metadata": {},
   "outputs": [
    {
     "name": "stdout",
     "output_type": "stream",
     "text": [
      "Reject the null hypothesis\n"
     ]
    }
   ],
   "source": [
    "alpha = 0.01\n",
    "\n",
    "# Compare p-value with alpha\n",
    "if p_value <= alpha:\n",
    "    print(\"Reject the null hypothesis\")\n",
    "    \n",
    "else:\n",
    "    print(\"Fail to reject the null hypothesis\")"
   ]
  },
  {
   "cell_type": "code",
   "execution_count": 52,
   "id": "8c66c766",
   "metadata": {},
   "outputs": [
    {
     "name": "stdout",
     "output_type": "stream",
     "text": [
      "F-Table Value: 2.9988078054431595\n"
     ]
    }
   ],
   "source": [
    "from scipy.stats import f\n",
    "\n",
    "# Degrees of freedom\n",
    "df1 = 2\n",
    "df2 = 2920\n",
    "\n",
    "# Significance level (alpha)\n",
    "alpha = 0.05\n",
    "\n",
    "# Calculate F-table value\n",
    "f_critical = f.ppf(1 - alpha, df1, df2)\n",
    "\n",
    "print(\"F-Table Value:\", f_critical)\n"
   ]
  },
  {
   "cell_type": "code",
   "execution_count": null,
   "id": "ada2e58a",
   "metadata": {},
   "outputs": [],
   "source": []
  }
 ],
 "metadata": {
  "kernelspec": {
   "display_name": "Python 3 (ipykernel)",
   "language": "python",
   "name": "python3"
  },
  "language_info": {
   "codemirror_mode": {
    "name": "ipython",
    "version": 3
   },
   "file_extension": ".py",
   "mimetype": "text/x-python",
   "name": "python",
   "nbconvert_exporter": "python",
   "pygments_lexer": "ipython3",
   "version": "3.9.7"
  }
 },
 "nbformat": 4,
 "nbformat_minor": 5
}
